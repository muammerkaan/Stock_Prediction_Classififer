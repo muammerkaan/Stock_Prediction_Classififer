{
 "cells": [
  {
   "attachments": {},
   "cell_type": "markdown",
   "metadata": {},
   "source": [
    "# Stock Prediction"
   ]
  },
  {
   "attachments": {},
   "cell_type": "markdown",
   "metadata": {},
   "source": [
    "The task is to predict the price direction of the stock: whether it will be higher or lower than the price of the previous day. If we predict it to be higher, we might as well buy some stocks, else, we should probably sell. Therefore, the target would be a binary classification of whether the following day closing price will be higher than the opening price."
   ]
  },
  {
   "cell_type": "code",
   "execution_count": 165,
   "metadata": {},
   "outputs": [],
   "source": [
    "import pandas as pd\n",
    "import numpy as np\n",
    "from matplotlib import pyplot as plt\n",
    "import scikitplot as skplt\n",
    "from sklearn.linear_model import LogisticRegression\n",
    "from sklearn.preprocessing import StandardScaler\n",
    "from sklearn.metrics import roc_curve, auc\n",
    "from sklearn.tree import DecisionTreeClassifier\n",
    "from sklearn.ensemble import RandomForestClassifier\n",
    "from sklearn.ensemble import GradientBoostingClassifier\n",
    "import tensorflow as tf\n",
    "\n"
   ]
  },
  {
   "cell_type": "code",
   "execution_count": 166,
   "metadata": {},
   "outputs": [
    {
     "data": {
      "text/html": [
       "<div>\n",
       "<style scoped>\n",
       "    .dataframe tbody tr th:only-of-type {\n",
       "        vertical-align: middle;\n",
       "    }\n",
       "\n",
       "    .dataframe tbody tr th {\n",
       "        vertical-align: top;\n",
       "    }\n",
       "\n",
       "    .dataframe thead th {\n",
       "        text-align: right;\n",
       "    }\n",
       "</style>\n",
       "<table border=\"1\" class=\"dataframe\">\n",
       "  <thead>\n",
       "    <tr style=\"text-align: right;\">\n",
       "      <th></th>\n",
       "      <th>Date</th>\n",
       "      <th>Open</th>\n",
       "      <th>High</th>\n",
       "      <th>Low</th>\n",
       "      <th>Close</th>\n",
       "      <th>Adj Close</th>\n",
       "      <th>Volume</th>\n",
       "    </tr>\n",
       "  </thead>\n",
       "  <tbody>\n",
       "    <tr>\n",
       "      <th>0</th>\n",
       "      <td>1997-05-15</td>\n",
       "      <td>2.437500</td>\n",
       "      <td>2.500000</td>\n",
       "      <td>1.927083</td>\n",
       "      <td>1.958333</td>\n",
       "      <td>1.958333</td>\n",
       "      <td>72156000</td>\n",
       "    </tr>\n",
       "    <tr>\n",
       "      <th>1</th>\n",
       "      <td>1997-05-16</td>\n",
       "      <td>1.968750</td>\n",
       "      <td>1.979167</td>\n",
       "      <td>1.708333</td>\n",
       "      <td>1.729167</td>\n",
       "      <td>1.729167</td>\n",
       "      <td>14700000</td>\n",
       "    </tr>\n",
       "    <tr>\n",
       "      <th>2</th>\n",
       "      <td>1997-05-19</td>\n",
       "      <td>1.760417</td>\n",
       "      <td>1.770833</td>\n",
       "      <td>1.625000</td>\n",
       "      <td>1.708333</td>\n",
       "      <td>1.708333</td>\n",
       "      <td>6106800</td>\n",
       "    </tr>\n",
       "    <tr>\n",
       "      <th>3</th>\n",
       "      <td>1997-05-20</td>\n",
       "      <td>1.729167</td>\n",
       "      <td>1.750000</td>\n",
       "      <td>1.635417</td>\n",
       "      <td>1.635417</td>\n",
       "      <td>1.635417</td>\n",
       "      <td>5467200</td>\n",
       "    </tr>\n",
       "    <tr>\n",
       "      <th>4</th>\n",
       "      <td>1997-05-21</td>\n",
       "      <td>1.635417</td>\n",
       "      <td>1.645833</td>\n",
       "      <td>1.375000</td>\n",
       "      <td>1.427083</td>\n",
       "      <td>1.427083</td>\n",
       "      <td>18853200</td>\n",
       "    </tr>\n",
       "  </tbody>\n",
       "</table>\n",
       "</div>"
      ],
      "text/plain": [
       "         Date      Open      High       Low     Close  Adj Close    Volume\n",
       "0  1997-05-15  2.437500  2.500000  1.927083  1.958333   1.958333  72156000\n",
       "1  1997-05-16  1.968750  1.979167  1.708333  1.729167   1.729167  14700000\n",
       "2  1997-05-19  1.760417  1.770833  1.625000  1.708333   1.708333   6106800\n",
       "3  1997-05-20  1.729167  1.750000  1.635417  1.635417   1.635417   5467200\n",
       "4  1997-05-21  1.635417  1.645833  1.375000  1.427083   1.427083  18853200"
      ]
     },
     "execution_count": 166,
     "metadata": {},
     "output_type": "execute_result"
    }
   ],
   "source": [
    "# Load the training set\n",
    "df_train = pd.read_csv(\"AMZN_train.csv\")\n",
    "df_train.head()"
   ]
  },
  {
   "attachments": {},
   "cell_type": "markdown",
   "metadata": {},
   "source": [
    "# Data Exploration"
   ]
  },
  {
   "attachments": {},
   "cell_type": "markdown",
   "metadata": {},
   "source": [
    "* Define a function to run basic analysis on a set of data.\n",
    "* Apply the function to each of our datasets.\n",
    "* Observe trends and the validity of our data."
   ]
  },
  {
   "cell_type": "code",
   "execution_count": 167,
   "metadata": {},
   "outputs": [],
   "source": [
    "# Define a function to run some basic analysis of our data so that we dont have to repeat our code for each dataset\n",
    "def analyse(dataframe):\n",
    "    \"\"\"Runs an exploration analysis of the dataframe.\"\"\"\n",
    "    print(\"Shape\", dataframe.shape, \"\\n\")\n",
    "    print(\"Columns\", dataframe.columns, \"\\n\")\n",
    "    dataframe.info()\n",
    "    print(\"\\n\", dataframe.describe(), \"\\n\")\n",
    "    print(\"The data ranges from\", dataframe[\"Date\"].min(), \"to\", dataframe[\"Date\"].max())\n",
    "    dataframe.plot(x=\"Date\", y=[\"Close\", \"Open\", \"High\", \"Low\"])"
   ]
  },
  {
   "cell_type": "code",
   "execution_count": 168,
   "metadata": {},
   "outputs": [
    {
     "name": "stdout",
     "output_type": "stream",
     "text": [
      "Shape (4781, 7) \n",
      "\n",
      "Columns Index(['Date', 'Open', 'High', 'Low', 'Close', 'Adj Close', 'Volume'], dtype='object') \n",
      "\n",
      "<class 'pandas.core.frame.DataFrame'>\n",
      "RangeIndex: 4781 entries, 0 to 4780\n",
      "Data columns (total 7 columns):\n",
      " #   Column     Non-Null Count  Dtype  \n",
      "---  ------     --------------  -----  \n",
      " 0   Date       4781 non-null   object \n",
      " 1   Open       4781 non-null   float64\n",
      " 2   High       4781 non-null   float64\n",
      " 3   Low        4781 non-null   float64\n",
      " 4   Close      4781 non-null   float64\n",
      " 5   Adj Close  4781 non-null   float64\n",
      " 6   Volume     4781 non-null   int64  \n",
      "dtypes: float64(5), int64(1), object(1)\n",
      "memory usage: 261.6+ KB\n",
      "\n",
      "               Open         High          Low        Close    Adj Close  \\\n",
      "count  4781.000000  4781.000000  4781.000000  4781.000000  4781.000000   \n",
      "mean    127.619845   129.480122   125.697925   127.662449   127.662449   \n",
      "std     145.693083   147.132537   144.053633   145.677581   145.677581   \n",
      "min       1.406250     1.447917     1.312500     1.395833     1.395833   \n",
      "25%      34.299999    34.849998    33.660000    34.310001    34.310001   \n",
      "50%      62.880001    64.750000    60.937500    62.750000    62.750000   \n",
      "75%     189.009995   191.600006   186.210007   189.029999   189.029999   \n",
      "max     717.380005   722.450012   711.510010   717.929993   717.929993   \n",
      "\n",
      "             Volume  \n",
      "count  4.781000e+03  \n",
      "mean   8.225935e+06  \n",
      "std    7.810188e+06  \n",
      "min    4.872000e+05  \n",
      "25%    4.200900e+06  \n",
      "50%    6.200100e+06  \n",
      "75%    9.239900e+06  \n",
      "max    1.043292e+08   \n",
      "\n",
      "The data ranges from 1997-05-15 to 2016-05-13\n"
     ]
    },
    {
     "data": {
      "image/png": "[encoded data removed]",
      "text/plain": [
       "<Figure size 432x288 with 1 Axes>"
      ]
     },
     "metadata": {
      "needs_background": "light"
     },
     "output_type": "display_data"
    }
   ],
   "source": [
    "analyse(df_train)"
   ]
  },
  {
   "attachments": {},
   "cell_type": "markdown",
   "metadata": {},
   "source": [
    "* All prices are very close to each other since the lines are overlapping nearly everywhere. \n",
    "* Price has grown significantly over the years, starting at around $100 at the beginning of the century, rising to almost \\$700 only 13 years later."
   ]
  },
  {
   "cell_type": "code",
   "execution_count": 169,
   "metadata": {},
   "outputs": [
    {
     "name": "stdout",
     "output_type": "stream",
     "text": [
      "Shape (503, 7) \n",
      "\n",
      "Columns Index(['Date', 'Open', 'High', 'Low', 'Close', 'Adj Close', 'Volume'], dtype='object') \n",
      "\n",
      "<class 'pandas.core.frame.DataFrame'>\n",
      "RangeIndex: 503 entries, 0 to 502\n",
      "Data columns (total 7 columns):\n",
      " #   Column     Non-Null Count  Dtype  \n",
      "---  ------     --------------  -----  \n",
      " 0   Date       503 non-null    object \n",
      " 1   Open       503 non-null    float64\n",
      " 2   High       503 non-null    float64\n",
      " 3   Low        503 non-null    float64\n",
      " 4   Close      503 non-null    float64\n",
      " 5   Adj Close  503 non-null    float64\n",
      " 6   Volume     503 non-null    int64  \n",
      "dtypes: float64(5), int64(1), object(1)\n",
      "memory usage: 27.6+ KB\n",
      "\n",
      "               Open         High          Low        Close    Adj Close  \\\n",
      "count   503.000000   503.000000   503.000000   503.000000   503.000000   \n",
      "mean    992.201292   999.898131   982.574513   991.828966   991.828966   \n",
      "std     255.496588   259.220381   250.100614   254.885469   254.885469   \n",
      "min     689.559998   696.820007   682.119995   691.359985   691.359985   \n",
      "25%     780.500000   785.625000   772.410004   780.294983   780.294983   \n",
      "50%     948.000000   954.400024   941.140015   948.229980   948.229980   \n",
      "75%    1125.349976  1131.750000  1120.369995  1126.500000  1126.500000   \n",
      "max    1634.010010  1638.099976  1603.439941  1609.079956  1609.079956   \n",
      "\n",
      "             Volume  \n",
      "count  5.030000e+02  \n",
      "mean   3.918924e+06  \n",
      "std    2.069197e+06  \n",
      "min    1.458800e+06  \n",
      "25%    2.655050e+06  \n",
      "50%    3.324800e+06  \n",
      "75%    4.469000e+06  \n",
      "max    1.656500e+07   \n",
      "\n",
      "The data ranges from 2016-05-16 to 2018-05-14\n"
     ]
    },
    {
     "data": {
      "image/png": "[encoded data removed]",
      "text/plain": [
       "<Figure size 432x288 with 1 Axes>"
      ]
     },
     "metadata": {
      "needs_background": "light"
     },
     "output_type": "display_data"
    }
   ],
   "source": [
    "# Read and analyse validation set\n",
    "df_val = pd.read_csv(\"AMZN_val.csv\")\n",
    "analyse(df_val)"
   ]
  },
  {
   "attachments": {},
   "cell_type": "markdown",
   "metadata": {},
   "source": [
    "* The validation set has the same properties as the training set: no null values, clear column types and a valid date range. The stocks have continued to grow in this period."
   ]
  },
  {
   "cell_type": "code",
   "execution_count": 170,
   "metadata": {},
   "outputs": [
    {
     "name": "stdout",
     "output_type": "stream",
     "text": [
      "Shape (504, 7) \n",
      "\n",
      "Columns Index(['Date', 'Open', 'High', 'Low', 'Close', 'Adj Close', 'Volume'], dtype='object') \n",
      "\n",
      "<class 'pandas.core.frame.DataFrame'>\n",
      "RangeIndex: 504 entries, 0 to 503\n",
      "Data columns (total 7 columns):\n",
      " #   Column     Non-Null Count  Dtype  \n",
      "---  ------     --------------  -----  \n",
      " 0   Date       504 non-null    object \n",
      " 1   Open       504 non-null    float64\n",
      " 2   High       504 non-null    float64\n",
      " 3   Low        504 non-null    float64\n",
      " 4   Close      504 non-null    float64\n",
      " 5   Adj Close  504 non-null    float64\n",
      " 6   Volume     504 non-null    int64  \n",
      "dtypes: float64(5), int64(1), object(1)\n",
      "memory usage: 27.7+ KB\n",
      "\n",
      "               Open         High          Low        Close    Adj Close  \\\n",
      "count   504.000000   504.000000   504.000000   504.000000   504.000000   \n",
      "mean   1823.927758  1843.069246  1803.067065  1824.040536  1824.040536   \n",
      "std     178.129809   179.294163   177.457741   178.470078   178.470078   \n",
      "min    1346.000000  1396.030029  1307.000000  1343.959961  1343.959961   \n",
      "25%    1712.924988  1730.602447  1691.637543  1713.642517  1713.642517   \n",
      "50%    1806.539978  1824.244995  1791.289978  1806.119995  1806.119995   \n",
      "75%    1908.154968  1921.580048  1887.580017  1902.842468  1902.842468   \n",
      "max    2443.199951  2475.000000  2396.010010  2474.000000  2474.000000   \n",
      "\n",
      "             Volume  \n",
      "count  5.040000e+02  \n",
      "mean   4.705042e+06  \n",
      "std    2.288185e+06  \n",
      "min    8.813000e+05  \n",
      "25%    3.078725e+06  \n",
      "50%    4.068450e+06  \n",
      "75%    5.763300e+06  \n",
      "max    1.556730e+07   \n",
      "\n",
      "The data ranges from 2018-05-15 to 2020-05-14\n"
     ]
    },
    {
     "data": {
      "image/png": "[encoded data removed]",
      "text/plain": [
       "<Figure size 432x288 with 1 Axes>"
      ]
     },
     "metadata": {
      "needs_background": "light"
     },
     "output_type": "display_data"
    }
   ],
   "source": [
    "# Read and analyse test set\n",
    "df_test = pd.read_csv(\"AMZN_test.csv\")\n",
    "analyse(df_test)"
   ]
  },
  {
   "attachments": {},
   "cell_type": "markdown",
   "metadata": {},
   "source": [
    "* The test set has the same properties as the validation set but also displays some volatility during this time period."
   ]
  },
  {
   "attachments": {},
   "cell_type": "markdown",
   "metadata": {},
   "source": [
    "# Data Preprocessing"
   ]
  },
  {
   "attachments": {},
   "cell_type": "markdown",
   "metadata": {},
   "source": [
    "* Sort all datasets by date.\n",
    "* Create dependant/target variable.\n",
    "* Observe the distribution of the target variable across all datasets."
   ]
  },
  {
   "cell_type": "code",
   "execution_count": 171,
   "metadata": {},
   "outputs": [],
   "source": [
    "# Ensuring that the data is sorted by date\n",
    "df_train.sort_values(by=\"Date\", inplace=True)\n",
    "df_val.sort_values(by=\"Date\", inplace=True)\n",
    "df_test.sort_values(by=\"Date\", inplace=True)\n"
   ]
  },
  {
   "cell_type": "code",
   "execution_count": 172,
   "metadata": {},
   "outputs": [],
   "source": [
    "# Assign a binary label to each row which is determined by comparing the difference between the closing and opening prices of the stock\n",
    "# We also shift by a period of '-1', this takes the next day's price direction for the current day\n",
    "df_train[\"Target\"] = (df_train[\"Close\"] > df_train[\"Open\"]).shift(periods=-1, fill_value=0).astype(int)"
   ]
  },
  {
   "cell_type": "code",
   "execution_count": 173,
   "metadata": {},
   "outputs": [
    {
     "data": {
      "text/plain": [
       "1    2392\n",
       "0    2389\n",
       "Name: Target, dtype: int64"
      ]
     },
     "execution_count": 173,
     "metadata": {},
     "output_type": "execute_result"
    }
   ],
   "source": [
    "df_train[\"Target\"].value_counts()"
   ]
  },
  {
   "cell_type": "code",
   "execution_count": 174,
   "metadata": {},
   "outputs": [
    {
     "data": {
      "text/plain": [
       "0    255\n",
       "1    248\n",
       "Name: Target, dtype: int64"
      ]
     },
     "execution_count": 174,
     "metadata": {},
     "output_type": "execute_result"
    }
   ],
   "source": [
    "df_val[\"Target\"] = (df_val[\"Close\"] > df_val[\"Open\"]).shift(periods=-1, fill_value=0).astype(int)\n",
    "df_val[\"Target\"].value_counts()"
   ]
  },
  {
   "cell_type": "code",
   "execution_count": 175,
   "metadata": {},
   "outputs": [
    {
     "data": {
      "text/plain": [
       "1    255\n",
       "0    249\n",
       "Name: Target, dtype: int64"
      ]
     },
     "execution_count": 175,
     "metadata": {},
     "output_type": "execute_result"
    }
   ],
   "source": [
    "df_test[\"Target\"] = (df_test[\"Close\"] > df_test[\"Open\"]).shift(periods=-1, fill_value=0).astype(int)\n",
    "df_test[\"Target\"].value_counts()"
   ]
  },
  {
   "attachments": {},
   "cell_type": "markdown",
   "metadata": {},
   "source": [
    "* The distribution of our dependant variable appears consistent throughout all our datasets. "
   ]
  },
  {
   "cell_type": "code",
   "execution_count": 176,
   "metadata": {},
   "outputs": [
    {
     "data": {
      "text/html": [
       "<div>\n",
       "<style scoped>\n",
       "    .dataframe tbody tr th:only-of-type {\n",
       "        vertical-align: middle;\n",
       "    }\n",
       "\n",
       "    .dataframe tbody tr th {\n",
       "        vertical-align: top;\n",
       "    }\n",
       "\n",
       "    .dataframe thead th {\n",
       "        text-align: right;\n",
       "    }\n",
       "</style>\n",
       "<table border=\"1\" class=\"dataframe\">\n",
       "  <thead>\n",
       "    <tr style=\"text-align: right;\">\n",
       "      <th></th>\n",
       "      <th>Date</th>\n",
       "      <th>Open</th>\n",
       "      <th>High</th>\n",
       "      <th>Low</th>\n",
       "      <th>Close</th>\n",
       "      <th>Adj Close</th>\n",
       "      <th>Volume</th>\n",
       "      <th>Target</th>\n",
       "    </tr>\n",
       "  </thead>\n",
       "  <tbody>\n",
       "    <tr>\n",
       "      <th>0</th>\n",
       "      <td>1997-05-15</td>\n",
       "      <td>2.437500</td>\n",
       "      <td>2.500000</td>\n",
       "      <td>1.927083</td>\n",
       "      <td>1.958333</td>\n",
       "      <td>1.958333</td>\n",
       "      <td>72156000</td>\n",
       "      <td>0</td>\n",
       "    </tr>\n",
       "    <tr>\n",
       "      <th>1</th>\n",
       "      <td>1997-05-16</td>\n",
       "      <td>1.968750</td>\n",
       "      <td>1.979167</td>\n",
       "      <td>1.708333</td>\n",
       "      <td>1.729167</td>\n",
       "      <td>1.729167</td>\n",
       "      <td>14700000</td>\n",
       "      <td>0</td>\n",
       "    </tr>\n",
       "    <tr>\n",
       "      <th>2</th>\n",
       "      <td>1997-05-19</td>\n",
       "      <td>1.760417</td>\n",
       "      <td>1.770833</td>\n",
       "      <td>1.625000</td>\n",
       "      <td>1.708333</td>\n",
       "      <td>1.708333</td>\n",
       "      <td>6106800</td>\n",
       "      <td>0</td>\n",
       "    </tr>\n",
       "    <tr>\n",
       "      <th>3</th>\n",
       "      <td>1997-05-20</td>\n",
       "      <td>1.729167</td>\n",
       "      <td>1.750000</td>\n",
       "      <td>1.635417</td>\n",
       "      <td>1.635417</td>\n",
       "      <td>1.635417</td>\n",
       "      <td>5467200</td>\n",
       "      <td>0</td>\n",
       "    </tr>\n",
       "    <tr>\n",
       "      <th>4</th>\n",
       "      <td>1997-05-21</td>\n",
       "      <td>1.635417</td>\n",
       "      <td>1.645833</td>\n",
       "      <td>1.375000</td>\n",
       "      <td>1.427083</td>\n",
       "      <td>1.427083</td>\n",
       "      <td>18853200</td>\n",
       "      <td>0</td>\n",
       "    </tr>\n",
       "    <tr>\n",
       "      <th>...</th>\n",
       "      <td>...</td>\n",
       "      <td>...</td>\n",
       "      <td>...</td>\n",
       "      <td>...</td>\n",
       "      <td>...</td>\n",
       "      <td>...</td>\n",
       "      <td>...</td>\n",
       "      <td>...</td>\n",
       "    </tr>\n",
       "    <tr>\n",
       "      <th>4776</th>\n",
       "      <td>2016-05-09</td>\n",
       "      <td>673.950012</td>\n",
       "      <td>686.979980</td>\n",
       "      <td>671.409973</td>\n",
       "      <td>679.750000</td>\n",
       "      <td>679.750000</td>\n",
       "      <td>3982200</td>\n",
       "      <td>1</td>\n",
       "    </tr>\n",
       "    <tr>\n",
       "      <th>4777</th>\n",
       "      <td>2016-05-10</td>\n",
       "      <td>694.000000</td>\n",
       "      <td>704.549988</td>\n",
       "      <td>693.500000</td>\n",
       "      <td>703.070007</td>\n",
       "      <td>703.070007</td>\n",
       "      <td>6105600</td>\n",
       "      <td>1</td>\n",
       "    </tr>\n",
       "    <tr>\n",
       "      <th>4778</th>\n",
       "      <td>2016-05-11</td>\n",
       "      <td>705.789978</td>\n",
       "      <td>719.000000</td>\n",
       "      <td>701.650024</td>\n",
       "      <td>713.229980</td>\n",
       "      <td>713.229980</td>\n",
       "      <td>7338200</td>\n",
       "      <td>1</td>\n",
       "    </tr>\n",
       "    <tr>\n",
       "      <th>4779</th>\n",
       "      <td>2016-05-12</td>\n",
       "      <td>717.380005</td>\n",
       "      <td>722.450012</td>\n",
       "      <td>711.510010</td>\n",
       "      <td>717.929993</td>\n",
       "      <td>717.929993</td>\n",
       "      <td>5048200</td>\n",
       "      <td>0</td>\n",
       "    </tr>\n",
       "    <tr>\n",
       "      <th>4780</th>\n",
       "      <td>2016-05-13</td>\n",
       "      <td>714.640015</td>\n",
       "      <td>719.250000</td>\n",
       "      <td>706.510010</td>\n",
       "      <td>709.919983</td>\n",
       "      <td>709.919983</td>\n",
       "      <td>4763400</td>\n",
       "      <td>0</td>\n",
       "    </tr>\n",
       "  </tbody>\n",
       "</table>\n",
       "<p>4781 rows × 8 columns</p>\n",
       "</div>"
      ],
      "text/plain": [
       "            Date        Open        High         Low       Close   Adj Close  \\\n",
       "0     1997-05-15    2.437500    2.500000    1.927083    1.958333    1.958333   \n",
       "1     1997-05-16    1.968750    1.979167    1.708333    1.729167    1.729167   \n",
       "2     1997-05-19    1.760417    1.770833    1.625000    1.708333    1.708333   \n",
       "3     1997-05-20    1.729167    1.750000    1.635417    1.635417    1.635417   \n",
       "4     1997-05-21    1.635417    1.645833    1.375000    1.427083    1.427083   \n",
       "...          ...         ...         ...         ...         ...         ...   \n",
       "4776  2016-05-09  673.950012  686.979980  671.409973  679.750000  679.750000   \n",
       "4777  2016-05-10  694.000000  704.549988  693.500000  703.070007  703.070007   \n",
       "4778  2016-05-11  705.789978  719.000000  701.650024  713.229980  713.229980   \n",
       "4779  2016-05-12  717.380005  722.450012  711.510010  717.929993  717.929993   \n",
       "4780  2016-05-13  714.640015  719.250000  706.510010  709.919983  709.919983   \n",
       "\n",
       "        Volume  Target  \n",
       "0     72156000       0  \n",
       "1     14700000       0  \n",
       "2      6106800       0  \n",
       "3      5467200       0  \n",
       "4     18853200       0  \n",
       "...        ...     ...  \n",
       "4776   3982200       1  \n",
       "4777   6105600       1  \n",
       "4778   7338200       1  \n",
       "4779   5048200       0  \n",
       "4780   4763400       0  \n",
       "\n",
       "[4781 rows x 8 columns]"
      ]
     },
     "execution_count": 176,
     "metadata": {},
     "output_type": "execute_result"
    }
   ],
   "source": [
    "df_train"
   ]
  },
  {
   "attachments": {},
   "cell_type": "markdown",
   "metadata": {},
   "source": [
    "# Feature Engineering"
   ]
  },
  {
   "attachments": {},
   "cell_type": "markdown",
   "metadata": {},
   "source": [
    "* Create 4 new features that could be used to enhance the accuracy of our predictive model."
   ]
  },
  {
   "attachments": {},
   "cell_type": "markdown",
   "metadata": {},
   "source": [
    "* As stock prices can depend on the prices of previous days we want to take into account the values of the last n days so we can indicate possible trends that our predictive model can use.\n",
    "* To do this we will create 2 new features that contain the rolling average of the price changes from the previous 3 and 7 days."
   ]
  },
  {
   "cell_type": "code",
   "execution_count": 177,
   "metadata": {},
   "outputs": [],
   "source": [
    "# Create feature that calculates the rolling average of the price change from the previous 3 days\n",
    "df_train[\"Moving_Average_3\"] = (df_train[\"Close\"] - df_train[\"Open\"]).rolling(window=3, min_periods=1).mean()\n",
    "df_val[\"Moving_Average_3\"] = (df_val[\"Close\"] - df_val[\"Open\"]).rolling(window=3, min_periods=1).mean()\n",
    "df_test[\"Moving_Average_3\"] = (df_test[\"Close\"] - df_test[\"Open\"]).rolling(window=3, min_periods=1).mean()"
   ]
  },
  {
   "cell_type": "code",
   "execution_count": 178,
   "metadata": {},
   "outputs": [],
   "source": [
    "# Create feature that calculates the rolling average of the price change from the previous 7 days\n",
    "df_train[\"Moving_Average_7\"] = (df_train[\"Close\"] - df_train[\"Open\"]).rolling(window=7, min_periods=1).mean()\n",
    "df_val[\"Moving_Average_7\"] = (df_val[\"Close\"] - df_val[\"Open\"]).rolling(window=7, min_periods=1).mean()\n",
    "df_test[\"Moving_Average_7\"] = (df_test[\"Close\"] - df_test[\"Open\"]).rolling(window=7, min_periods=1).mean()\n"
   ]
  },
  {
   "cell_type": "code",
   "execution_count": 179,
   "metadata": {},
   "outputs": [],
   "source": [
    "# Create a feature that contains the current day's price difference\n",
    "df_train[\"Today_Direction\"] = df_train[\"Close\"] - df_train[\"Open\"]\n",
    "df_val[\"Today_Direction\"] = df_val[\"Close\"] - df_val[\"Open\"]\n",
    "df_test[\"Today_Direction\"] = df_test[\"Close\"] - df_test[\"Open\"]"
   ]
  },
  {
   "cell_type": "code",
   "execution_count": 180,
   "metadata": {},
   "outputs": [],
   "source": [
    "# Create a feature that contains the current day's price range\n",
    "df_train[\"Price_Range\"] = df_train[\"High\"] - df_train[\"Low\"]\n",
    "df_val[\"Price_Range\"] = df_val[\"High\"] - df_val[\"Low\"]\n",
    "df_test[\"Price_Range\"] = df_test[\"High\"] - df_test[\"Low\"]"
   ]
  },
  {
   "cell_type": "code",
   "execution_count": 181,
   "metadata": {},
   "outputs": [
    {
     "data": {
      "text/html": [
       "<div>\n",
       "<style scoped>\n",
       "    .dataframe tbody tr th:only-of-type {\n",
       "        vertical-align: middle;\n",
       "    }\n",
       "\n",
       "    .dataframe tbody tr th {\n",
       "        vertical-align: top;\n",
       "    }\n",
       "\n",
       "    .dataframe thead th {\n",
       "        text-align: right;\n",
       "    }\n",
       "</style>\n",
       "<table border=\"1\" class=\"dataframe\">\n",
       "  <thead>\n",
       "    <tr style=\"text-align: right;\">\n",
       "      <th></th>\n",
       "      <th>Date</th>\n",
       "      <th>Open</th>\n",
       "      <th>High</th>\n",
       "      <th>Low</th>\n",
       "      <th>Close</th>\n",
       "      <th>Adj Close</th>\n",
       "      <th>Volume</th>\n",
       "      <th>Target</th>\n",
       "      <th>Moving_Average_3</th>\n",
       "      <th>Moving_Average_7</th>\n",
       "      <th>Today_Direction</th>\n",
       "      <th>Price_Range</th>\n",
       "    </tr>\n",
       "  </thead>\n",
       "  <tbody>\n",
       "    <tr>\n",
       "      <th>0</th>\n",
       "      <td>1997-05-15</td>\n",
       "      <td>2.437500</td>\n",
       "      <td>2.500000</td>\n",
       "      <td>1.927083</td>\n",
       "      <td>1.958333</td>\n",
       "      <td>1.958333</td>\n",
       "      <td>72156000</td>\n",
       "      <td>0</td>\n",
       "      <td>-0.479167</td>\n",
       "      <td>-0.479167</td>\n",
       "      <td>-0.479167</td>\n",
       "      <td>0.572917</td>\n",
       "    </tr>\n",
       "    <tr>\n",
       "      <th>1</th>\n",
       "      <td>1997-05-16</td>\n",
       "      <td>1.968750</td>\n",
       "      <td>1.979167</td>\n",
       "      <td>1.708333</td>\n",
       "      <td>1.729167</td>\n",
       "      <td>1.729167</td>\n",
       "      <td>14700000</td>\n",
       "      <td>0</td>\n",
       "      <td>-0.359375</td>\n",
       "      <td>-0.359375</td>\n",
       "      <td>-0.239583</td>\n",
       "      <td>0.270834</td>\n",
       "    </tr>\n",
       "    <tr>\n",
       "      <th>2</th>\n",
       "      <td>1997-05-19</td>\n",
       "      <td>1.760417</td>\n",
       "      <td>1.770833</td>\n",
       "      <td>1.625000</td>\n",
       "      <td>1.708333</td>\n",
       "      <td>1.708333</td>\n",
       "      <td>6106800</td>\n",
       "      <td>0</td>\n",
       "      <td>-0.256945</td>\n",
       "      <td>-0.256945</td>\n",
       "      <td>-0.052084</td>\n",
       "      <td>0.145833</td>\n",
       "    </tr>\n",
       "    <tr>\n",
       "      <th>3</th>\n",
       "      <td>1997-05-20</td>\n",
       "      <td>1.729167</td>\n",
       "      <td>1.750000</td>\n",
       "      <td>1.635417</td>\n",
       "      <td>1.635417</td>\n",
       "      <td>1.635417</td>\n",
       "      <td>5467200</td>\n",
       "      <td>0</td>\n",
       "      <td>-0.128472</td>\n",
       "      <td>-0.216146</td>\n",
       "      <td>-0.093750</td>\n",
       "      <td>0.114583</td>\n",
       "    </tr>\n",
       "    <tr>\n",
       "      <th>4</th>\n",
       "      <td>1997-05-21</td>\n",
       "      <td>1.635417</td>\n",
       "      <td>1.645833</td>\n",
       "      <td>1.375000</td>\n",
       "      <td>1.427083</td>\n",
       "      <td>1.427083</td>\n",
       "      <td>18853200</td>\n",
       "      <td>0</td>\n",
       "      <td>-0.118056</td>\n",
       "      <td>-0.214584</td>\n",
       "      <td>-0.208334</td>\n",
       "      <td>0.270833</td>\n",
       "    </tr>\n",
       "    <tr>\n",
       "      <th>...</th>\n",
       "      <td>...</td>\n",
       "      <td>...</td>\n",
       "      <td>...</td>\n",
       "      <td>...</td>\n",
       "      <td>...</td>\n",
       "      <td>...</td>\n",
       "      <td>...</td>\n",
       "      <td>...</td>\n",
       "      <td>...</td>\n",
       "      <td>...</td>\n",
       "      <td>...</td>\n",
       "      <td>...</td>\n",
       "    </tr>\n",
       "    <tr>\n",
       "      <th>4776</th>\n",
       "      <td>2016-05-09</td>\n",
       "      <td>673.950012</td>\n",
       "      <td>686.979980</td>\n",
       "      <td>671.409973</td>\n",
       "      <td>679.750000</td>\n",
       "      <td>679.750000</td>\n",
       "      <td>3982200</td>\n",
       "      <td>1</td>\n",
       "      <td>3.160014</td>\n",
       "      <td>3.610011</td>\n",
       "      <td>5.799988</td>\n",
       "      <td>15.570007</td>\n",
       "    </tr>\n",
       "    <tr>\n",
       "      <th>4777</th>\n",
       "      <td>2016-05-10</td>\n",
       "      <td>694.000000</td>\n",
       "      <td>704.549988</td>\n",
       "      <td>693.500000</td>\n",
       "      <td>703.070007</td>\n",
       "      <td>703.070007</td>\n",
       "      <td>6105600</td>\n",
       "      <td>1</td>\n",
       "      <td>10.923340</td>\n",
       "      <td>5.821437</td>\n",
       "      <td>9.070007</td>\n",
       "      <td>11.049988</td>\n",
       "    </tr>\n",
       "    <tr>\n",
       "      <th>4778</th>\n",
       "      <td>2016-05-11</td>\n",
       "      <td>705.789978</td>\n",
       "      <td>719.000000</td>\n",
       "      <td>701.650024</td>\n",
       "      <td>713.229980</td>\n",
       "      <td>713.229980</td>\n",
       "      <td>7338200</td>\n",
       "      <td>1</td>\n",
       "      <td>7.436666</td>\n",
       "      <td>4.037153</td>\n",
       "      <td>7.440002</td>\n",
       "      <td>17.349976</td>\n",
       "    </tr>\n",
       "    <tr>\n",
       "      <th>4779</th>\n",
       "      <td>2016-05-12</td>\n",
       "      <td>717.380005</td>\n",
       "      <td>722.450012</td>\n",
       "      <td>711.510010</td>\n",
       "      <td>717.929993</td>\n",
       "      <td>717.929993</td>\n",
       "      <td>5048200</td>\n",
       "      <td>0</td>\n",
       "      <td>5.686666</td>\n",
       "      <td>4.978576</td>\n",
       "      <td>0.549988</td>\n",
       "      <td>10.940002</td>\n",
       "    </tr>\n",
       "    <tr>\n",
       "      <th>4780</th>\n",
       "      <td>2016-05-13</td>\n",
       "      <td>714.640015</td>\n",
       "      <td>719.250000</td>\n",
       "      <td>706.510010</td>\n",
       "      <td>709.919983</td>\n",
       "      <td>709.919983</td>\n",
       "      <td>4763400</td>\n",
       "      <td>0</td>\n",
       "      <td>1.089986</td>\n",
       "      <td>3.117144</td>\n",
       "      <td>-4.720032</td>\n",
       "      <td>12.739990</td>\n",
       "    </tr>\n",
       "  </tbody>\n",
       "</table>\n",
       "<p>4781 rows × 12 columns</p>\n",
       "</div>"
      ],
      "text/plain": [
       "            Date        Open        High         Low       Close   Adj Close  \\\n",
       "0     1997-05-15    2.437500    2.500000    1.927083    1.958333    1.958333   \n",
       "1     1997-05-16    1.968750    1.979167    1.708333    1.729167    1.729167   \n",
       "2     1997-05-19    1.760417    1.770833    1.625000    1.708333    1.708333   \n",
       "3     1997-05-20    1.729167    1.750000    1.635417    1.635417    1.635417   \n",
       "4     1997-05-21    1.635417    1.645833    1.375000    1.427083    1.427083   \n",
       "...          ...         ...         ...         ...         ...         ...   \n",
       "4776  2016-05-09  673.950012  686.979980  671.409973  679.750000  679.750000   \n",
       "4777  2016-05-10  694.000000  704.549988  693.500000  703.070007  703.070007   \n",
       "4778  2016-05-11  705.789978  719.000000  701.650024  713.229980  713.229980   \n",
       "4779  2016-05-12  717.380005  722.450012  711.510010  717.929993  717.929993   \n",
       "4780  2016-05-13  714.640015  719.250000  706.510010  709.919983  709.919983   \n",
       "\n",
       "        Volume  Target  Moving_Average_3  Moving_Average_7  Today_Direction  \\\n",
       "0     72156000       0         -0.479167         -0.479167        -0.479167   \n",
       "1     14700000       0         -0.359375         -0.359375        -0.239583   \n",
       "2      6106800       0         -0.256945         -0.256945        -0.052084   \n",
       "3      5467200       0         -0.128472         -0.216146        -0.093750   \n",
       "4     18853200       0         -0.118056         -0.214584        -0.208334   \n",
       "...        ...     ...               ...               ...              ...   \n",
       "4776   3982200       1          3.160014          3.610011         5.799988   \n",
       "4777   6105600       1         10.923340          5.821437         9.070007   \n",
       "4778   7338200       1          7.436666          4.037153         7.440002   \n",
       "4779   5048200       0          5.686666          4.978576         0.549988   \n",
       "4780   4763400       0          1.089986          3.117144        -4.720032   \n",
       "\n",
       "      Price_Range  \n",
       "0        0.572917  \n",
       "1        0.270834  \n",
       "2        0.145833  \n",
       "3        0.114583  \n",
       "4        0.270833  \n",
       "...           ...  \n",
       "4776    15.570007  \n",
       "4777    11.049988  \n",
       "4778    17.349976  \n",
       "4779    10.940002  \n",
       "4780    12.739990  \n",
       "\n",
       "[4781 rows x 12 columns]"
      ]
     },
     "execution_count": 181,
     "metadata": {},
     "output_type": "execute_result"
    }
   ],
   "source": [
    "df_train"
   ]
  },
  {
   "attachments": {},
   "cell_type": "markdown",
   "metadata": {},
   "source": [
    "# Classical Machine Learning"
   ]
  },
  {
   "attachments": {},
   "cell_type": "markdown",
   "metadata": {},
   "source": [
    "* Logistic Regression\n",
    "* Decision Tree\n",
    "* Random Forrest\n",
    "* Gradient Boosting Ensemble"
   ]
  },
  {
   "attachments": {},
   "cell_type": "markdown",
   "metadata": {},
   "source": [
    "### Logistic Regression"
   ]
  },
  {
   "cell_type": "code",
   "execution_count": 182,
   "metadata": {},
   "outputs": [],
   "source": [
    "# this is the target column that we aim to predict\n",
    "y_col = \"Target\"\n",
    "# these are the input features for the models\n",
    "X_cols = [\n",
    "    \"Open\",\n",
    "    \"Close\",\n",
    "    \"High\",\n",
    "    \"Low\",\n",
    "    \"Volume\",\n",
    "    \"Adj Close\",\n",
    "    \"Today_Direction\",\n",
    "    \"Price_Range\",\n",
    "    \"Moving_Average_3\",\n",
    "    \"Moving_Average_7\"\n",
    "]"
   ]
  },
  {
   "cell_type": "code",
   "execution_count": 183,
   "metadata": {},
   "outputs": [],
   "source": [
    "X_train = df_train[X_cols]\n",
    "y_train = df_train[y_col]\n",
    "\n",
    "X_val = df_val[X_cols]\n",
    "y_val = df_val[y_col]\n",
    "\n",
    "X_test = df_val[X_cols]\n",
    "y_test = df_val[y_col]"
   ]
  },
  {
   "cell_type": "code",
   "execution_count": 184,
   "metadata": {},
   "outputs": [],
   "source": [
    "# for reproducibility\n",
    "RANDOM_SEED = 42\n"
   ]
  },
  {
   "cell_type": "code",
   "execution_count": 185,
   "metadata": {},
   "outputs": [
    {
     "data": {
      "image/png": "[encoded data removed]",
      "text/plain": [
       "<Figure size 432x288 with 1 Axes>"
      ]
     },
     "metadata": {
      "needs_background": "light"
     },
     "output_type": "display_data"
    }
   ],
   "source": [
    "from sklearn.linear_model import LogisticRegression\n",
    "from sklearn.preprocessing import StandardScaler\n",
    "from scikitplot.metrics import plot_roc_curve\n",
    "\n",
    "# use default parameters\n",
    "lr = LogisticRegression()\n",
    "\n",
    "# fit to train set\n",
    "lr.fit(X_train, y_train)\n",
    "\n",
    "# calculate ROC curve and AUC for validation set\n",
    "y_score = lr.decision_function(X_val)\n",
    "fpr, tpr, _ = roc_curve(y_val, y_score)\n",
    "roc_auc = auc(fpr, tpr)\n",
    "\n",
    "# plot ROC curve\n",
    "plt.plot(fpr, tpr, color='darkorange', label=f'ROC curve (AUC = {roc_auc:.2f})')\n",
    "plt.plot([0, 1], [0, 1], color='navy', linestyle='--')\n",
    "plt.xlabel('False Positive Rate')\n",
    "plt.ylabel('True Positive Rate')\n",
    "plt.title('ROC curve')\n",
    "plt.legend(loc='lower right')\n",
    "plt.show()"
   ]
  },
  {
   "attachments": {},
   "cell_type": "markdown",
   "metadata": {},
   "source": [
    "The AUC value of the logistic regression model is 0.49 meaning that the model is only correct in 49% of its predicitions. This means our model is not a good predictor for this data set."
   ]
  },
  {
   "attachments": {},
   "cell_type": "markdown",
   "metadata": {},
   "source": [
    "### Decision Tree"
   ]
  },
  {
   "cell_type": "code",
   "execution_count": 186,
   "metadata": {},
   "outputs": [
    {
     "data": {
      "image/png": "[encoded data removed]",
      "text/plain": [
       "<Figure size 432x288 with 1 Axes>"
      ]
     },
     "metadata": {
      "needs_background": "light"
     },
     "output_type": "display_data"
    }
   ],
   "source": [
    "dt = DecisionTreeClassifier(random_state=RANDOM_SEED)\n",
    "\n",
    "# fit to train set\n",
    "dt.fit(X_train, y_train)\n",
    "\n",
    "# calculate ROC curve and AUC for validation set\n",
    "y_score = dt.predict_proba(X_val)[:, 1] # probability of positive class\n",
    "fpr, tpr, _ = roc_curve(y_val, y_score)\n",
    "roc_auc = auc(fpr, tpr)\n",
    "\n",
    "# plot ROC curve\n",
    "plt.plot(fpr, tpr, color='darkorange', label=f'ROC curve (AUC = {roc_auc:.2f})')\n",
    "plt.plot([0, 1], [0, 1], color='navy', linestyle='--')\n",
    "plt.xlabel('False Positive Rate')\n",
    "plt.ylabel('True Positive Rate')\n",
    "plt.title('ROC curve')\n",
    "plt.legend(loc='lower right')\n",
    "plt.show()"
   ]
  },
  {
   "attachments": {},
   "cell_type": "markdown",
   "metadata": {},
   "source": [
    "The decision tree model has an AUC value of 0.51 which means it is correct for a slight majority of its predictions. This is better than the logistic regression model."
   ]
  },
  {
   "attachments": {},
   "cell_type": "markdown",
   "metadata": {},
   "source": [
    "### Random Forrest"
   ]
  },
  {
   "cell_type": "code",
   "execution_count": 187,
   "metadata": {},
   "outputs": [
    {
     "data": {
      "image/png": "[encoded data removed]",
      "text/plain": [
       "<Figure size 432x288 with 1 Axes>"
      ]
     },
     "metadata": {
      "needs_background": "light"
     },
     "output_type": "display_data"
    }
   ],
   "source": [
    "rf = RandomForestClassifier(random_state=RANDOM_SEED)\n",
    "\n",
    "# fit to train set\n",
    "rf.fit(X_train, y_train)\n",
    "\n",
    "# calculate ROC curve and AUC for validation set\n",
    "y_score = rf.predict_proba(X_val)[:, 1] # probability of positive class\n",
    "fpr, tpr, _ = roc_curve(y_val, y_score)\n",
    "roc_auc = auc(fpr, tpr)\n",
    "\n",
    "# plot ROC curve\n",
    "plt.plot(fpr, tpr, color='darkorange', label=f'ROC curve (AUC = {roc_auc:.2f})')\n",
    "plt.plot([0, 1], [0, 1], color='navy', linestyle='--')\n",
    "plt.xlabel('False Positive Rate')\n",
    "plt.ylabel('True Positive Rate')\n",
    "plt.title('ROC curve')\n",
    "plt.legend(loc='lower right')\n",
    "plt.show()"
   ]
  },
  {
   "attachments": {},
   "cell_type": "markdown",
   "metadata": {},
   "source": [
    "The random forrest preforms at the same level as our decision tree model as they have the same AUC value of 0.51."
   ]
  },
  {
   "attachments": {},
   "cell_type": "markdown",
   "metadata": {},
   "source": [
    "### Gradient Boosting Ensemble"
   ]
  },
  {
   "cell_type": "code",
   "execution_count": 188,
   "metadata": {},
   "outputs": [
    {
     "data": {
      "image/png": "[encoded data removed]",
      "text/plain": [
       "<Figure size 432x288 with 1 Axes>"
      ]
     },
     "metadata": {
      "needs_background": "light"
     },
     "output_type": "display_data"
    }
   ],
   "source": [
    "gb = GradientBoostingClassifier(random_state=RANDOM_SEED)\n",
    "\n",
    "# fit to train set\n",
    "gb.fit(X_train, y_train)\n",
    "\n",
    "# calculate ROC curve and AUC for validation set\n",
    "y_score = gb.predict_proba(X_val)[:, 1] # probability of positive class\n",
    "fpr, tpr, _ = roc_curve(y_val, y_score)\n",
    "roc_auc = auc(fpr, tpr)\n",
    "\n",
    "# plot ROC curve\n",
    "plt.plot(fpr, tpr, color='darkorange', label=f'ROC curve (AUC = {roc_auc:.2f})')\n",
    "plt.plot([0, 1], [0, 1], color='navy', linestyle='--')\n",
    "plt.xlabel('False Positive Rate')\n",
    "plt.ylabel('True Positive Rate')\n",
    "plt.title('ROC curve')\n",
    "plt.legend(loc='lower right')\n",
    "plt.show()"
   ]
  },
  {
   "attachments": {},
   "cell_type": "markdown",
   "metadata": {},
   "source": [
    "The gradient boosting classifier has an AUC value of 0.55 meaning that it is our best preforming model."
   ]
  },
  {
   "attachments": {},
   "cell_type": "markdown",
   "metadata": {},
   "source": [
    "# Deep Learning"
   ]
  },
  {
   "attachments": {},
   "cell_type": "markdown",
   "metadata": {},
   "source": [
    "We are going to use Tensorflow for implementing a small neural network."
   ]
  },
  {
   "cell_type": "code",
   "execution_count": 189,
   "metadata": {},
   "outputs": [
    {
     "name": "stdout",
     "output_type": "stream",
     "text": [
      "Tensorflow version 2.9.2\n"
     ]
    }
   ],
   "source": [
    "# set seed for reproducibility of results\n",
    "tf.random.set_seed(RANDOM_SEED)\n",
    "\n",
    "print(\"Tensorflow version\", tf.__version__)\n"
   ]
  },
  {
   "attachments": {},
   "cell_type": "markdown",
   "metadata": {},
   "source": [
    "We will use Keras to design a small neural network."
   ]
  },
  {
   "cell_type": "code",
   "execution_count": 190,
   "metadata": {},
   "outputs": [],
   "source": [
    "model = tf.keras.models.Sequential([\n",
    "    tf.keras.layers.Normalization(axis=-1),\n",
    "    tf.keras.layers.Dense(10, input_shape=[X_train.shape[1],], activation=\"relu\", kernel_initializer='random_normal', bias_initializer='zeros'),\n",
    "    tf.keras.layers.Dropout(0.2, seed=RANDOM_SEED),\n",
    "    tf.keras.layers.Dense(5, activation=\"relu\", kernel_initializer='random_normal', bias_initializer='zeros'),\n",
    "    tf.keras.layers.Dense(1, activation=\"sigmoid\", kernel_initializer='random_normal', bias_initializer='zeros')\n",
    "])"
   ]
  },
  {
   "cell_type": "code",
   "execution_count": 191,
   "metadata": {},
   "outputs": [],
   "source": [
    "# this configures the model's loss function, weight optimizer, and metrics to keep track of\n",
    "model.compile(\n",
    "    loss=\"binary_crossentropy\", \n",
    "    optimizer=tf.keras.optimizers.Adam(), \n",
    "    metrics=['AUC']\n",
    ")"
   ]
  },
  {
   "attachments": {},
   "cell_type": "markdown",
   "metadata": {},
   "source": [
    "We are going to train our model for 50 epochs, and keep track of its loss (binary_crossentropy) and AUC values during each epoch.\n",
    "\n",
    "To prevent overfitting, we are implementing two callbacks: (1) learning rate scheduler, and (2) early stopping callback."
   ]
  },
  {
   "cell_type": "code",
   "execution_count": 192,
   "metadata": {},
   "outputs": [],
   "source": [
    "def learning_rate_scheduler(epoch, learning_rate):\n",
    "    \"\"\"Learning rate decay callback.\"\"\"\n",
    "    if epoch < 5:\n",
    "        return learning_rate\n",
    "    else:\n",
    "        return learning_rate * tf.math.exp(-0.01)\n",
    "\n",
    "early_stopping_callback = tf.keras.callbacks.EarlyStopping(patience=10, verbose=1, restore_best_weights=True)\n",
    "learning_rate_callback = tf.keras.callbacks.LearningRateScheduler(learning_rate_scheduler)"
   ]
  },
  {
   "cell_type": "code",
   "execution_count": 193,
   "metadata": {},
   "outputs": [
    {
     "name": "stdout",
     "output_type": "stream",
     "text": [
      "Epoch 1/50\n",
      "150/150 [==============================] - 2s 13ms/step - loss: 47.1543 - auc: 0.4898 - val_loss: 0.6931 - val_auc: 0.5000 - lr: 0.0010\n",
      "Epoch 2/50\n",
      "150/150 [==============================] - 2s 10ms/step - loss: 1.1417 - auc: 0.4985 - val_loss: 0.6931 - val_auc: 0.5000 - lr: 0.0010\n",
      "Epoch 3/50\n",
      "150/150 [==============================] - 2s 10ms/step - loss: 0.6964 - auc: 0.4973 - val_loss: 0.6931 - val_auc: 0.5000 - lr: 0.0010\n",
      "Epoch 4/50\n",
      "150/150 [==============================] - 2s 10ms/step - loss: 0.7008 - auc: 0.4968 - val_loss: 0.6931 - val_auc: 0.5000 - lr: 0.0010\n",
      "Epoch 5/50\n",
      "150/150 [==============================] - 2s 10ms/step - loss: 0.7061 - auc: 0.4866 - val_loss: 0.6931 - val_auc: 0.5000 - lr: 0.0010\n",
      "Epoch 6/50\n",
      "150/150 [==============================] - 2s 11ms/step - loss: 0.6981 - auc: 0.4917 - val_loss: 0.6931 - val_auc: 0.5000 - lr: 9.9005e-04\n",
      "Epoch 7/50\n",
      "150/150 [==============================] - 2s 10ms/step - loss: 0.6947 - auc: 0.4939 - val_loss: 0.6931 - val_auc: 0.5000 - lr: 9.8020e-04\n",
      "Epoch 8/50\n",
      "150/150 [==============================] - 2s 10ms/step - loss: 0.7036 - auc: 0.4994 - val_loss: 0.6931 - val_auc: 0.5000 - lr: 9.7045e-04\n",
      "Epoch 9/50\n",
      "150/150 [==============================] - 2s 10ms/step - loss: 0.6953 - auc: 0.5021 - val_loss: 0.6932 - val_auc: 0.5000 - lr: 9.6079e-04\n",
      "Epoch 10/50\n",
      "150/150 [==============================] - 2s 10ms/step - loss: 0.6951 - auc: 0.4967 - val_loss: 0.6932 - val_auc: 0.5000 - lr: 9.5123e-04\n",
      "Epoch 11/50\n",
      "150/150 [==============================] - 2s 10ms/step - loss: 0.6958 - auc: 0.4994 - val_loss: 0.6932 - val_auc: 0.5000 - lr: 9.4176e-04\n",
      "Epoch 12/50\n",
      "150/150 [==============================] - ETA: 0s - loss: 0.6944 - auc: 0.4970Restoring model weights from the end of the best epoch: 2.\n",
      "150/150 [==============================] - 2s 10ms/step - loss: 0.6944 - auc: 0.4970 - val_loss: 0.6932 - val_auc: 0.5000 - lr: 9.3239e-04\n",
      "Epoch 12: early stopping\n"
     ]
    }
   ],
   "source": [
    "# the model.fit(...) method returns a 'history' object with stats about the training\n",
    "history = model.fit(\n",
    "    x=X_train,\n",
    "    y=y_train,\n",
    "    validation_data=(X_val, y_val),\n",
    "    epochs=50,\n",
    "    verbose=1,\n",
    "    callbacks=[early_stopping_callback, learning_rate_callback])"
   ]
  },
  {
   "attachments": {},
   "cell_type": "markdown",
   "metadata": {},
   "source": [
    "We observe that both the training and the validation AUC are very close to 0.5, improving the overall score only over the logistic regression model."
   ]
  },
  {
   "cell_type": "code",
   "execution_count": 194,
   "metadata": {},
   "outputs": [
    {
     "name": "stdout",
     "output_type": "stream",
     "text": [
      "Model: \"sequential_1\"\n",
      "_________________________________________________________________\n",
      " Layer (type)                Output Shape              Param #   \n",
      "=================================================================\n",
      " normalization_1 (Normalizat  (None, 10)               21        \n",
      " ion)                                                            \n",
      "                                                                 \n",
      " dense_3 (Dense)             (None, 10)                110       \n",
      "                                                                 \n",
      " dropout_1 (Dropout)         (None, 10)                0         \n",
      "                                                                 \n",
      " dense_4 (Dense)             (None, 5)                 55        \n",
      "                                                                 \n",
      " dense_5 (Dense)             (None, 1)                 6         \n",
      "                                                                 \n",
      "=================================================================\n",
      "Total params: 192\n",
      "Trainable params: 171\n",
      "Non-trainable params: 21\n",
      "_________________________________________________________________\n"
     ]
    }
   ],
   "source": [
    "model.summary()"
   ]
  },
  {
   "cell_type": "markdown",
   "metadata": {},
   "source": [
    "Below, we plot the train and validation loss and AUC values as a function of the epoch. We use the matplotlib library, and the history object to do that."
   ]
  },
  {
   "cell_type": "code",
   "execution_count": 195,
   "metadata": {},
   "outputs": [
    {
     "data": {
      "image/png": "[encoded data removed]",
      "text/plain": [
       "<Figure size 432x288 with 1 Axes>"
      ]
     },
     "metadata": {
      "needs_background": "light"
     },
     "output_type": "display_data"
    }
   ],
   "source": [
    "from matplotlib import pyplot as plt\n",
    "\n",
    "plt.plot(history.history['loss'], label='loss')\n",
    "plt.plot(history.history['val_loss'], label='val_loss')\n",
    "plt.xlabel('Epoch')\n",
    "plt.ylabel('Error [Price]')\n",
    "plt.legend()\n",
    "plt.grid(True)"
   ]
  },
  {
   "cell_type": "code",
   "execution_count": 196,
   "metadata": {},
   "outputs": [
    {
     "data": {
      "image/png": "[encoded data removed]",
      "text/plain": [
       "<Figure size 432x288 with 1 Axes>"
      ]
     },
     "metadata": {
      "needs_background": "light"
     },
     "output_type": "display_data"
    }
   ],
   "source": [
    "plt.plot(history.history['auc'], label='auc')\n",
    "plt.plot(history.history['val_auc'], label='val_auc')\n",
    "plt.xlabel('Epoch')\n",
    "plt.ylabel('Error [Price]')\n",
    "plt.legend()\n",
    "plt.grid(True)"
   ]
  },
  {
   "attachments": {},
   "cell_type": "markdown",
   "metadata": {},
   "source": [
    "# Conclusion"
   ]
  },
  {
   "attachments": {},
   "cell_type": "markdown",
   "metadata": {},
   "source": [
    "Out of the four classical machine learning models and one neural network formed, the best preforming model was the gradient boosting classifier."
   ]
  },
  {
   "attachments": {},
   "cell_type": "markdown",
   "metadata": {},
   "source": [
    "Below we will evaluate the preformance of the Gradient Boosting Classifier on the test set as well as plotting the feature importances of the model."
   ]
  },
  {
   "cell_type": "code",
   "execution_count": 197,
   "metadata": {},
   "outputs": [
    {
     "data": {
      "image/png": "[encoded data removed]",
      "text/plain": [
       "<Figure size 432x288 with 1 Axes>"
      ]
     },
     "metadata": {
      "needs_background": "light"
     },
     "output_type": "display_data"
    }
   ],
   "source": [
    "gb = GradientBoostingClassifier(random_state=RANDOM_SEED)\n",
    "\n",
    "# fit to train set\n",
    "gb.fit(X_train, y_train)\n",
    "\n",
    "# calculate ROC curve and AUC for test set\n",
    "y_score = gb.predict_proba(X_test)[:, 1] # probability of positive class\n",
    "fpr, tpr, _ = roc_curve(y_test, y_score)\n",
    "roc_auc = auc(fpr, tpr)\n",
    "\n",
    "# plot ROC curve\n",
    "plt.plot(fpr, tpr, color='darkorange', label=f'ROC curve (AUC = {roc_auc:.2f})')\n",
    "plt.plot([0, 1], [0, 1], color='navy', linestyle='--')\n",
    "plt.xlabel('False Positive Rate')\n",
    "plt.ylabel('True Positive Rate')\n",
    "plt.title('ROC curve')\n",
    "plt.legend(loc='lower right')\n",
    "plt.show()"
   ]
  },
  {
   "cell_type": "code",
   "execution_count": 198,
   "metadata": {},
   "outputs": [
    {
     "data": {
      "image/png": "[encoded data removed]",
      "text/plain": [
       "<Figure size 648x504 with 1 Axes>"
      ]
     },
     "metadata": {
      "needs_background": "light"
     },
     "output_type": "display_data"
    }
   ],
   "source": [
    "import numpy as np\n",
    "# Calculate feature importances\n",
    "importances = gb.feature_importances_\n",
    "# Sort feature importances in descending order\n",
    "indices = np.argsort(importances)[::-1]\n",
    "\n",
    "# Rearrange feature names so they match the sorted feature importances\n",
    "names = [df_train[X_cols].columns[i] for i in indices]\n",
    "\n",
    "_ = plt.figure(figsize=(9, 7))\n",
    "plt.bar(names, importances[indices])\n",
    "_ = plt.title(\"Feature importance\")\n",
    "_ = plt.xticks(rotation=20, fontsize = 8)"
   ]
  }
 ],
 "metadata": {
  "kernelspec": {
   "display_name": "mlp",
   "language": "python",
   "name": "python3"
  },
  "language_info": {
   "codemirror_mode": {
    "name": "ipython",
    "version": 3
   },
   "file_extension": ".py",
   "mimetype": "text/x-python",
   "name": "python",
   "nbconvert_exporter": "python",
   "pygments_lexer": "ipython3",
   "version": "3.8.15"
  },
  "orig_nbformat": 4,
  "vscode": {
   "interpreter": {
    "hash": "c6edb8a8de37064d7b613e74ad1a7af4dd0abfb04a933303eca80fca5548ad76"
   }
  }
 },
 "nbformat": 4,
 "nbformat_minor": 2
}
